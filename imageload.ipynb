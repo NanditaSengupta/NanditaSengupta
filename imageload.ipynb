{
  "nbformat": 4,
  "nbformat_minor": 0,
  "metadata": {
    "colab": {
      "provenance": [],
      "authorship_tag": "ABX9TyMr506TDLDeEUKS561T5YFs",
      "include_colab_link": true
    },
    "kernelspec": {
      "name": "python3",
      "display_name": "Python 3"
    },
    "language_info": {
      "name": "python"
    }
  },
  "cells": [
    {
      "cell_type": "markdown",
      "metadata": {
        "id": "view-in-github",
        "colab_type": "text"
      },
      "source": [
        "<a href=\"https://colab.research.google.com/github/NanditaSengupta/NanditaSengupta/blob/main/imageload.ipynb\" target=\"_parent\"><img src=\"https://colab.research.google.com/assets/colab-badge.svg\" alt=\"Open In Colab\"/></a>"
      ]
    },
    {
      "cell_type": "code",
      "execution_count": 2,
      "metadata": {
        "colab": {
          "base_uri": "https://localhost:8080/"
        },
        "id": "YwKl8o81D8Of",
        "outputId": "ca8fb525-e32a-487b-9307-02334634eb20"
      },
      "outputs": [
        {
          "output_type": "stream",
          "name": "stdout",
          "text": [
            "--2024-11-19 06:16:24--  https://upload.wikimedia.org/wikipedia/commons/thumb/b/bb/Kittyply_edit1.jpg/1024px-Kittyply_edit1.jpg\n",
            "Resolving upload.wikimedia.org (upload.wikimedia.org)... 208.80.153.240, 2620:0:860:ed1a::2:b\n",
            "Connecting to upload.wikimedia.org (upload.wikimedia.org)|208.80.153.240|:443... connected.\n",
            "HTTP request sent, awaiting response... 200 OK\n",
            "Length: 155920 (152K) [image/jpeg]\n",
            "Saving to: ‘cat.jpg’\n",
            "\n",
            "\rcat.jpg               0%[                    ]       0  --.-KB/s               \rcat.jpg             100%[===================>] 152.27K  --.-KB/s    in 0.08s   \n",
            "\n",
            "2024-11-19 06:16:24 (1.83 MB/s) - ‘cat.jpg’ saved [155920/155920]\n",
            "\n"
          ]
        }
      ],
      "source": [
        "!wget -O cat.jpg 'https://upload.wikimedia.org/wikipedia/commons/thumb/b/bb/Kittyply_edit1.jpg/1024px-Kittyply_edit1.jpg'\n",
        "img_path = 'cat.jpg'"
      ]
    }
  ]
}