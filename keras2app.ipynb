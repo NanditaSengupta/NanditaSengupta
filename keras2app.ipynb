{
  "nbformat": 4,
  "nbformat_minor": 0,
  "metadata": {
    "colab": {
      "provenance": [],
      "authorship_tag": "ABX9TyPQF/1uupJ49f0dIamfAmgX",
      "include_colab_link": true
    },
    "kernelspec": {
      "name": "python3",
      "display_name": "Python 3"
    },
    "language_info": {
      "name": "python"
    }
  },
  "cells": [
    {
      "cell_type": "markdown",
      "metadata": {
        "id": "view-in-github",
        "colab_type": "text"
      },
      "source": [
        "<a href=\"https://colab.research.google.com/github/NanditaSengupta/NanditaSengupta/blob/main/keras2app.ipynb\" target=\"_parent\"><img src=\"https://colab.research.google.com/assets/colab-badge.svg\" alt=\"Open In Colab\"/></a>"
      ]
    },
    {
      "cell_type": "code",
      "source": [],
      "metadata": {
        "id": "-lUkqw_wLpYj"
      },
      "execution_count": null,
      "outputs": []
    },
    {
      "cell_type": "code",
      "execution_count": null,
      "metadata": {
        "id": "GtITtE6i508A"
      },
      "outputs": [],
      "source": []
    },
    {
      "cell_type": "code",
      "source": [
        "#Example 5.2\n",
        "from tensorflow.keras.preprocessing import image\n",
        "from keras.applications.imagenet_utils import decode_predictions\n",
        "import numpy as np\n",
        "\n",
        "from tensorflow.keras.applications import (\n",
        "        vgg16,\n",
        "        resnet50,\n",
        "        mobilenet,\n",
        "        inception_v3\n",
        "    )\n",
        "\n",
        "# init the models\n",
        "#model = vgg16.VGG16(weights='imagenet')\n",
        "#model = resnet50.ResNet50(weights='imagenet')\n",
        "model = mobilenet.MobileNet(weights='imagenet')\n",
        "#model = inception_v3.InceptionV3(weights='imagenet')\n",
        "print(model.summary())\n",
        "\n",
        "img_path = 'Elephant.jpg'\n",
        "img = image.load_img(img_path, target_size=(224, 224))\n",
        "x = image.img_to_array(img)\n",
        "x = np.expand_dims(x, axis=0)\n",
        "#processed_image = vgg16.preprocess_input(x)\n",
        "#processed_image = resnet50.preprocess_input(x)\n",
        "processed_image = mobilenet.preprocess_input(x)\n",
        "#processed_image = inception_v3.preprocess_input(x)\n",
        "\n",
        "# prediction\n",
        "predictions = model.predict(x)\n",
        "results = decode_predictions(predictions)\n",
        "print(results)\n"
      ],
      "metadata": {
        "id": "w-rRfFwS6IFZ"
      },
      "execution_count": null,
      "outputs": []
    }
  ]
}